{
 "cells": [
  {
   "attachments": {},
   "cell_type": "markdown",
   "metadata": {},
   "source": [
    "# Primeira Parte\n",
    "\n",
    "Vamos começar percorrendo alguns conceitos básicos das biblitecas apresentadas (pandas, numpy, matplotlib)\n",
    "\n",
    "Primeiro, vamos importar essas bibliotecas para nossa aplicação"
   ]
  },
  {
   "cell_type": "code",
   "execution_count": null,
   "metadata": {
    "vscode": {
     "languageId": "plaintext"
    }
   },
   "outputs": [],
   "source": []
  }
 ],
 "metadata": {
  "language_info": {
   "name": "python"
  },
  "orig_nbformat": 4
 },
 "nbformat": 4,
 "nbformat_minor": 2
}
