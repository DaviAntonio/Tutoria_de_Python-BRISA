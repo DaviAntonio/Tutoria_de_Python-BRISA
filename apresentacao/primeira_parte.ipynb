{
 "cells": [
  {
   "attachments": {},
   "cell_type": "markdown",
   "metadata": {},
   "source": [
    "# Lendo Arquivo\n",
    "\n",
    "&emsp;&emsp;Vamos começar percorrendo alguns conceitos básicos das biblitecas apresentadas (pandas, numpy, matplotlib).\n",
    "\n",
    "&emsp;&emsp;Primeiro, vamos importar essas bibliotecas para nossa aplicação."
   ]
  },
  {
   "cell_type": "code",
   "execution_count": null,
   "metadata": {
    "vscode": {
     "languageId": "plaintext"
    }
   },
   "outputs": [],
   "source": [
    "import pandas as pd\n",
    "import numpy as np \n",
    "from matplotlib import pyplot as plt "
   ]
  },
  {
   "attachments": {},
   "cell_type": "markdown",
   "metadata": {},
   "source": [
    "&emsp;&emsp;Com as bibliotecas já importadas, podemos começar a mexer com as funções armazenadas nelas. Como por exemplo, a read_csv() do pandas, que vamos utilizar para abrir o arquivo carros.csv. E o head(), que vamos utilizar para dar uma olhada na estrutura dos dados que estamos lendo. "
   ]
  },
  {
   "cell_type": "code",
   "execution_count": null,
   "metadata": {
    "vscode": {
     "languageId": "plaintext"
    }
   },
   "outputs": [],
   "source": [
    "data = pd.read_csv('/content/carros.csv')\n",
    "print(type(data))\n",
    "print(data.head(5))"
   ]
  },
  {
   "attachments": {},
   "cell_type": "markdown",
   "metadata": {},
   "source": [
    "## O que é DataFrame ?\n",
    "\n",
    "&emsp;&emsp;Os DataFrames são objetos bidimensionais, de tamanho variável. O seu formato é de uma tabela, onde os dados são organizados em linhas e colunas, é possível ver no primeiro print da célula acima que a variável 'data' é um DataFrame. Além disso, enquanto podemos pensar a Series como uma única coluna, o DataFrame seria uma união de várias Series sob um mesmo index. A estrutura do DataFrame é apresentada quando executamos o segundo print da célula anterior."
   ]
  },
  {
   "cell_type": "code",
   "execution_count": null,
   "metadata": {
    "vscode": {
     "languageId": "plaintext"
    }
   },
   "outputs": [],
   "source": [
    "data_np = data.values\n",
    "\n",
    "print(type(data_np))\n",
    "print(data_np)"
   ]
  },
  {
   "attachments": {},
   "cell_type": "markdown",
   "metadata": {},
   "source": [
    "## O que é ndArray ?\n",
    "\n",
    "&emsp;&emsp;Um array é uma estrutura multidimensional que nos permite armazenar dados na memória do nosso computador, de modo que cada item localizado nessa estrutura pode ser encontrado por meio de um esquema de indexação. O NumPy denomina essa estrutura como ndarray, como forma de abreviação a array N-dimensional.\n",
    "\n",
    "## Manipulando dados\n",
    "\n",
    "&emsp;&emsp;Ao utilizar a bilbioteca numpy, ela permite algumas manipulações de dados, o que é muito importante para uma análise mais detalhada, mas mais importante que manipular os dados e entender o que eles significam. Algumas das manipulações possíveis serão exemplificadas a seguir.\n",
    "\n",
    "&emsp;&emsp;Para mais funções para manipular os dados de seu array, acesse [aqui](https://numpy.org/doc/stable/reference/routines.array-manipulation.html)."
   ]
  },
  {
   "cell_type": "code",
   "execution_count": null,
   "metadata": {
    "vscode": {
     "languageId": "plaintext"
    }
   },
   "outputs": [],
   "source": [
    "ano = data['YEAR'].values\n",
    "marca = data['Make'].values\n",
    "\n",
    "print(ano)\n",
    "print(marca)\n",
    "\n",
    "# 1 - Definir a quantidade de dados\n",
    "print(len(ano))\n",
    "\n",
    "# 2 - Definir o modelo mais novo\n",
    "print(max(ano))\n",
    "\n",
    "# 3 - Definir o modelo mais antigo\n",
    "print(min(ano))\n",
    "\n",
    "# 4 - Definir a média de idade dos modelos\n",
    "print(2023 - round(ano.mean()))\n",
    "\n",
    "# 5 - Definir quantos carros de determinada marca estam em estoque\n",
    "tesla = np.sum(marca == 'TESLA')\n",
    "print(\"Tesla aparece \" + str(tesla) + \" vezes, o que corresponde a \" + str((tesla/len(marca))*100) + \"% dos carros\")\n",
    "bmw = np.sum(marca == 'BMW')\n",
    "print(\"BMW aparece \" + str(bmw) + \" vezes, o que corresponde a \" + str((bmw/len(marca))*100) + \"% dos carros\")\n"
   ]
  },
  {
   "attachments": {},
   "cell_type": "markdown",
   "metadata": {},
   "source": [
    "## Vizualisando dados\n",
    "\n",
    "&emsp;&emsp;Com a biblioteca matplotlib é possível plotar gráficos que nos permitem analisar as informações de forma mais visual. Como por exemplo na célula seguinte, onde plotamos um gráfico de dispersão comparando a capacidade de armazenamento. "
   ]
  },
  {
   "cell_type": "code",
   "execution_count": null,
   "metadata": {
    "vscode": {
     "languageId": "plaintext"
    }
   },
   "outputs": [],
   "source": [
    "potencia = data['(kW)']\n",
    "consumo_combinado = data['COMB (kWh/100 km)']\n",
    "\n",
    "# Criar o gráfico de dispersão\n",
    "plt.scatter(potencia, consumo_combinado)\n",
    "\n",
    "# Personalizar o gráfico\n",
    "plt.title('Relação entre Potência e Consumo Combinado')\n",
    "plt.xlabel('Potência (kW)')\n",
    "plt.ylabel('Consumo Combinado (kWh/100 km)')\n",
    "\n",
    "# Exibir o gráfico\n",
    "plt.show()"
   ]
  }
 ],
 "metadata": {
  "language_info": {
   "name": "python"
  },
  "orig_nbformat": 4
 },
 "nbformat": 4,
 "nbformat_minor": 2
}
