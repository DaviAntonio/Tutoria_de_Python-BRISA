{
 "cells": [
  {
   "attachments": {},
   "cell_type": "markdown",
   "metadata": {},
   "source": [
    "# Lendo Arquivo\n",
    "\n",
    "Vamos começar percorrendo alguns conceitos básicos das biblitecas apresentadas (pandas, numpy, matplotlib).\n",
    "\n",
    "Primeiro, vamos importar essas bibliotecas para nossa aplicação."
   ]
  },
  {
   "cell_type": "code",
   "execution_count": null,
   "metadata": {
    "vscode": {
     "languageId": "plaintext"
    }
   },
   "outputs": [],
   "source": [
    "import pandas as pd\n",
    "import numpy as np \n",
    "from matplotlib import pyplot as plt "
   ]
  },
  {
   "attachments": {},
   "cell_type": "markdown",
   "metadata": {},
   "source": [
    "Com as bibliotecas já importadas, podemos começar a mexer com as funções armazenadas nelas. Como por exemplo, a read_csv() do pandas, que vamos utilizar para abrir o arquivo carros.csv. "
   ]
  },
  {
   "cell_type": "code",
   "execution_count": null,
   "metadata": {
    "vscode": {
     "languageId": "plaintext"
    }
   },
   "outputs": [],
   "source": [
    "data = pd.read_csv('carros.csv')\n",
    "print(type(data))\n",
    "print(data.head(5))"
   ]
  }
 ],
 "metadata": {
  "language_info": {
   "name": "python"
  },
  "orig_nbformat": 4
 },
 "nbformat": 4,
 "nbformat_minor": 2
}
